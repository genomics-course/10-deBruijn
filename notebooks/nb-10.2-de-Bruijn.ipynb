{
 "cells": [
  {
   "cell_type": "markdown",
   "metadata": {},
   "source": [
    "# Notebook 10.2: *De Bruijn* graphs \n",
    "\n",
    "\n",
    "\n",
    "### Reading:\n",
    "This notebook is meant to accompany the following assigned article: Compeau, Phillip E. C., Pavel A. Pevzner, and Glenn Tesler. 2011. “How to Apply de Bruijn Graphs to Genome Assembly.” Nature Biotechnology 29 (11): 987–91. https://doi.org/10.1038/nbt.2023.\n",
    "\n",
    "\n",
    "### Learning objectives: \n",
    "\n",
    "By the end of this notebook you should: \n",
    "\n",
    "1. Understand the example from Box 1 of your reading.\n",
    "2. Be able to follow along with code for constructing a de Bruijn graph. \n",
    "3. Be able to visually interpret a de Bruijn graph as a genome assembly. "
   ]
  },
  {
   "cell_type": "code",
   "execution_count": null,
   "metadata": {},
   "outputs": [],
   "source": [
    "import random\n",
    "import toyplot"
   ]
  },
  {
   "cell_type": "markdown",
   "metadata": {},
   "source": [
    "## Functions for inferring a *de Bruijn* graph\n",
    "\n",
    "In the example below we start by looking at the examples from `Box 1` and `Fig. 2` from the assigned reading. Can we construct the string \"0001110100\" from its component 3-mers? To start, we need to extract the 3mers from the sequence. The function below will return a dictionary object where the keys include all observed kmers in the input alphabet, and the values represent the number of times that kmer was observed in the input sequence. "
   ]
  },
  {
   "cell_type": "code",
   "execution_count": null,
   "metadata": {},
   "outputs": [],
   "source": [
    "def get_kmer_count_from_sequence(sequence, k=3, cyclic=True):\n",
    "    \"\"\"\n",
    "    Returns dictionary with keys representing all possible kmers in a sequence\n",
    "    and values counting their occurrence in the sequence.\n",
    "    \"\"\"\n",
    "    # dict to store kmers\n",
    "    kmers = {}\n",
    "    \n",
    "    # count how many times each occurred in this sequence (treated as cyclic)\n",
    "    for i in range(0, len(sequence)):\n",
    "        kmer = sequence[i:i + k]\n",
    "        \n",
    "        # for cyclic sequence get kmers that wrap from end to beginning\n",
    "        length = len(kmer)\n",
    "        if cyclic:\n",
    "            if len(kmer) != k:\n",
    "                kmer += sequence[:(k - length)]\n",
    "        \n",
    "        # if not cyclic then skip kmers at end of sequence\n",
    "        else:\n",
    "            if len(kmer) != k:\n",
    "                continue\n",
    "        \n",
    "        # count occurrence of this kmer in sequence\n",
    "        if kmer in kmers:\n",
    "            kmers[kmer] += 1\n",
    "        else:\n",
    "            kmers[kmer] = 1\n",
    "    \n",
    "    return kmers"
   ]
  },
  {
   "cell_type": "markdown",
   "metadata": {},
   "source": [
    "Let's now run the function on our example binary string:"
   ]
  },
  {
   "cell_type": "code",
   "execution_count": null,
   "metadata": {},
   "outputs": [],
   "source": [
    "# the binary sequence\n",
    "binary = \"0001110100\"\n",
    "\n",
    "# get all 3mers in the binary sequence\n",
    "kmers = get_kmer_count_from_sequence(binary, k=3, cyclic=False)\n",
    "\n",
    "# return the kmers dictionary\n",
    "kmers"
   ]
  },
  {
   "cell_type": "markdown",
   "metadata": {},
   "source": [
    "### Build the de Bruijn graph\n",
    "A graph can be constructed from a list of edges that connect nodes. For example, `[(A, B), (B, C), (C, A)]` would describe a graph connecting the three nodes A, B, and C. As a *directed graph*, this states that A connects to B, B to C, and C to A. In terms of Python code we can represent this is many possible ways. Here we will use a set of tuples to store pairs of (k-1)mers representing an edge. \n",
    "\n",
    "We can construct a graph connecting (k-1)mers as nodes using the code below. This compares all kmers to each other, if the n-1 suffix of one matches the n-1 prefix on another (i.e, they overlap) then the pair (which together form a kmer) is stored as an edge in the graph. It might surprise you to learn that we can infer a de Bruijn graph with only about 10 lines of Python code. Cool right?\n"
   ]
  },
  {
   "cell_type": "code",
   "execution_count": null,
   "metadata": {},
   "outputs": [],
   "source": [
    "def get_debruijn_edges_from_kmers(kmers):\n",
    "    \"\"\"\n",
    "    Every possible (k-1)mer (n-1 suffix and prefix of kmers) is assigned\n",
    "    to a node, and we connect one node to another if the (k-1)mer overlaps \n",
    "    another. Nodes are (k-1)mers, edges are kmers.\n",
    "    \"\"\"\n",
    "    # store edges as tuples in a set\n",
    "    edges = set()\n",
    "    \n",
    "    # compare each (k-1)mer\n",
    "    for k1 in kmers:\n",
    "        for k2 in kmers:\n",
    "            if k1 != k2:            \n",
    "                # if they overlap then add to edges\n",
    "                if k1[1:] == k2[:-1]:\n",
    "                    edges.add((k1[:-1], k2[:-1]))\n",
    "                if k1[:-1] == k2[1:]:\n",
    "                    edges.add((k2[:-1], k1[:-1]))\n",
    "\n",
    "    return edges"
   ]
  },
  {
   "cell_type": "markdown",
   "metadata": {},
   "source": [
    "This example is from Figure 2 of your reading. We use 4mers to get a de Bruijn graph of a long binary sequence. We will use our first function above to get all 4mers and their counts, and then our second graph to find all 3mers from that set of 4mers which overlap with each other. The result is a set of pairs of 3mers. This may not yet look like a graph, but it does in fact represent graph data. It will make a little more sense when we visualize it below."
   ]
  },
  {
   "cell_type": "code",
   "execution_count": null,
   "metadata": {},
   "outputs": [],
   "source": [
    "# the binary sequence\n",
    "binary = \"0000110010111101\"\n",
    "\n",
    "# get all 4mers in the binary sequence\n",
    "kmers = get_kmer_count_from_sequence(binary, k=4, cyclic=True)\n",
    "print(kmers)\n",
    "\n",
    "# get a set of edges for all 4-mers matching by n-1\n",
    "edges = get_debruijn_edges_from_kmers(kmers)\n",
    "\n",
    "# return edges\n",
    "edges"
   ]
  },
  {
   "cell_type": "markdown",
   "metadata": {},
   "source": [
    "### Plot the *de Bruijn* graph\n",
    "Once the graph is constructed we are not yet finished, we still need to find the shortest Eulerian path through the graph. This will represent the most accurate ordered assembly of kmers that will match the full string sequence. In this simple example the set of kmers fits Euler's theorem perfectly, each kmer in the string was observed, and each occurs only once, thus there is a simple path that is clearly visible in the graph. \n",
    "\n",
    "The function below uses the Python library `toyplot` to generate a graph from a set of edges. It uses a force-directed algorithm to randomly space the nodes to make it easy to read. The edges of the graph are shown with arrows which indicates the direction. The function below itself simply takes the edge information we generated and a number of styling options for the plot."
   ]
  },
  {
   "cell_type": "code",
   "execution_count": null,
   "metadata": {},
   "outputs": [],
   "source": [
    "def plot_debruijn_graph(edges, width=500, height=500):\n",
    "    \"returns a toyplot graph from an input of edges\"\n",
    "    graph = toyplot.graph(\n",
    "        [i[0] for i in edges],\n",
    "        [i[1] for i in edges],\n",
    "        width=width,\n",
    "        height=height,\n",
    "        tmarker=\">\", \n",
    "        vsize=25,\n",
    "        vstyle={\"stroke\": \"black\", \"stroke-width\": 2, \"fill\": \"none\"},\n",
    "        vlstyle={\"font-size\": \"11px\"},\n",
    "        estyle={\"stroke\": \"black\", \"stroke-width\": 2},\n",
    "        layout=toyplot.layout.FruchtermanReingold(edges=toyplot.layout.CurvedEdges()))\n",
    "    return graph"
   ]
  },
  {
   "cell_type": "code",
   "execution_count": null,
   "metadata": {},
   "outputs": [],
   "source": [
    "# print the cyclic binary string represented by the de Bruijn graph \n",
    "print(binary)\n",
    "\n",
    "# plot the graph\n",
    "plot_debruijn_graph(edges);"
   ]
  },
  {
   "cell_type": "markdown",
   "metadata": {},
   "source": [
    "<div class=\"alert alert-success\">\n",
    "    <b>[4] Question:</b> \n",
    "    Compare the graph above to the one in Figure 2 of your reading. Although the placement of the nodes is not exactly the same, are the connections among them (i.e., the graph structure) the same? To check this, choose a (k-1)mer node on the graph and follow along the directed edges of the graph, and check the binary string to see if you can trace the entire path. Answer in Markdown below. \n",
    "</div>"
   ]
  },
  {
   "cell_type": "markdown",
   "metadata": {},
   "source": [
    "<div class=\"alert alert-warning\">\n",
    "\n",
    "Answer here:\n",
    "\n",
    "\n",
    "</div>"
   ]
  },
  {
   "cell_type": "markdown",
   "metadata": {},
   "source": [
    "### Example with sequence data\n",
    "\n",
    "In this example we will look at sequence data instead of a binary string, and we will explore how kmer length affects our ability to identify a single Eulerian path, versus multiple conflicting paths. We can easily construct a de Bruijn graph from the sequence data just like we did with the binary data by using the same functions we used above. Let's start by generating some random sequence data."
   ]
  },
  {
   "cell_type": "code",
   "execution_count": null,
   "metadata": {},
   "outputs": [],
   "source": [
    "def random_sequence(seqlen):\n",
    "    \"Generate a random DNA sequence of a given length \"\n",
    "    return \"\".join([random.choice(\"ACGT\") for i in range(seqlen)])"
   ]
  },
  {
   "cell_type": "code",
   "execution_count": null,
   "metadata": {},
   "outputs": [],
   "source": [
    "# set a random seed \n",
    "random.seed(123)\n",
    "\n",
    "# get a random genome sequence\n",
    "genome1 = random_sequence(25)\n",
    "genome1"
   ]
  },
  {
   "cell_type": "markdown",
   "metadata": {},
   "source": [
    "### kmers and edges for sequence data\n",
    "\n",
    "And now let's apply our functions to get kmers and edges from the sequence."
   ]
  },
  {
   "cell_type": "code",
   "execution_count": null,
   "metadata": {},
   "outputs": [],
   "source": [
    "# not all possible kmers occur in this sequence, some occur multiple times.\n",
    "kmers = get_kmer_count_from_sequence(genome1, k=3)\n",
    "kmers"
   ]
  },
  {
   "cell_type": "code",
   "execution_count": null,
   "metadata": {},
   "outputs": [],
   "source": [
    "# edges of connected (k-1)mers for k=3 representing the db graph\n",
    "edges = get_debruijn_edges_from_kmers(kmers)\n",
    "edges"
   ]
  },
  {
   "cell_type": "markdown",
   "metadata": {},
   "source": [
    "### Get kmers and graph edges and plot for k=6\n",
    "Let's put these functions all together to infer a de Bruijn graph and plot it for a sequence using kmers of size=6. You can see in the example below that the 6mers from this 25bp genome are able to uniquely map a Eulerian graph to represent the full genome sequence. The thing to take-away from this plot is the relationship of the directed edges. We can see that there is only one path that connects every node in the graph. This path spells out the genome sequence. In other words, we assembled the genome from its kmers! \n"
   ]
  },
  {
   "cell_type": "code",
   "execution_count": null,
   "metadata": {},
   "outputs": [],
   "source": [
    "# get kmers\n",
    "kmers = get_kmer_count_from_sequence(genome1, k=6, cyclic=True)\n",
    "\n",
    "# get db graph\n",
    "edges = get_debruijn_edges_from_kmers(kmers)\n",
    "\n",
    "# plot db graph\n",
    "plot_debruijn_graph(edges, width=600, height=400);\n",
    "\n",
    "# print the true sequence\n",
    "print(\"the true sequence: {}\".format(genome1))"
   ]
  },
  {
   "cell_type": "markdown",
   "metadata": {},
   "source": [
    "We can run the same code as above but this time we provide the function `get_kmer_count_from_sequence()` with the argument `cyclic=False`. This is more realistic for a linear chromosome, rather than circular one. Here you can see the genome sequence even more clearly (again, ignore the loopiness of the graph edges, pay attention to which nodes are pointing to which). "
   ]
  },
  {
   "cell_type": "code",
   "execution_count": null,
   "metadata": {},
   "outputs": [],
   "source": [
    "# get kmers\n",
    "kmers = get_kmer_count_from_sequence(genome1, k=6, cyclic=False)\n",
    "\n",
    "# get db graph\n",
    "edges = get_debruijn_edges_from_kmers(kmers)\n",
    "\n",
    "# plot db graph\n",
    "plot_debruijn_graph(edges, width=600, height=400);\n",
    "\n",
    "# print the true sequence\n",
    "print(\"the true sequence: {}\".format(genome1))"
   ]
  },
  {
   "cell_type": "markdown",
   "metadata": {},
   "source": [
    "### So what's so hard about genome assembly? Well, let's try k=4:\n",
    "Let's take a look at what happens when we try to infer the same graph using smaller kmers. What in the world! As described in box 2 of your reading, the real world of genome assembly is much more difficult than the toy examples we've seen so far. One reason for this is that given the kmer size that we choose, which is often a limitation imposed by the short read datatype, there may be too much repetition of edges connecting the same kmers such that there is not a single unique Eulerian path through the graph. In the example below we can see that a few nodes have multiple edges coming in or out. In this case, because each internal edge has the same number of edges coming in as out, it still actually forms a Eulerian path! However, it is ambiguous to us which way through the path is the true one. These loops in the path are called *bubbles*, and genome assembly software is optimized to try to solve them by using additional information, such as the depths of reads covering each edge of the graph."
   ]
  },
  {
   "cell_type": "code",
   "execution_count": null,
   "metadata": {},
   "outputs": [],
   "source": [
    "kmers = get_kmer_count_from_sequence(genome1, k=4, cyclic=False)\n",
    "edges = get_debruijn_edges_from_kmers(kmers)\n",
    "plot_debruijn_graph(edges, width=800, height=400);"
   ]
  },
  {
   "cell_type": "markdown",
   "metadata": {},
   "source": [
    "<div class=\"alert alert-success\">\n",
    "    <b>[5] Question:</b> \n",
    "    Box 2 of your reading describes four hidden assumptions of de Bruijn graph assembly. List these four assumptions below. For each list whether we have addressed this assumption yet in our examples. \n",
    "</div>"
   ]
  },
  {
   "cell_type": "markdown",
   "metadata": {},
   "source": [
    "<div class=\"alert alert-warning\">\n",
    "\n",
    "Answer here: \n",
    "\n",
    "\n",
    "</div>"
   ]
  },
  {
   "cell_type": "code",
   "execution_count": null,
   "metadata": {},
   "outputs": [],
   "source": []
  }
 ],
 "metadata": {
  "kernelspec": {
   "display_name": "Python 3 (ipykernel)",
   "language": "python",
   "name": "python3"
  },
  "language_info": {
   "codemirror_mode": {
    "name": "ipython",
    "version": 3
   },
   "file_extension": ".py",
   "mimetype": "text/x-python",
   "name": "python",
   "nbconvert_exporter": "python",
   "pygments_lexer": "ipython3",
   "version": "3.10.12"
  }
 },
 "nbformat": 4,
 "nbformat_minor": 4
}
